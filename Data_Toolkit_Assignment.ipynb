{
  "nbformat": 4,
  "nbformat_minor": 0,
  "metadata": {
    "colab": {
      "provenance": []
    },
    "kernelspec": {
      "name": "python3",
      "display_name": "Python 3"
    },
    "language_info": {
      "name": "python"
    }
  },
  "cells": [
    {
      "cell_type": "markdown",
      "source": [
        "#Theroy Questions\n"
      ],
      "metadata": {
        "id": "kE873F7wM2pP"
      }
    },
    {
      "cell_type": "markdown",
      "source": [
        "1. What is NumPy, and why is it widely used in Python?\n",
        "- NumPy stands for Numerical Python.\n",
        "- It’s a popular Python library for working with numbers and arrays.\n",
        "- It lets you create and manage large lists or tables of numbers easily.\n",
        "\n",
        "- Why is NumPy widely used in Python?\n",
        "  - Fast Calculations\n",
        "  - Stores Lots of Data Efficiently\n",
        "  - Easy to Use\n",
        "  - Used by Other Libraries\n",
        "  - Good for Science and Data Work\n",
        "- NumPy makes it easy and fast to work with numbers in Python, which is why almost everyone in science, data, and engineering uses."
      ],
      "metadata": {
        "id": "BTGBB3NMM9Fm"
      }
    },
    {
      "cell_type": "markdown",
      "source": [
        "2.How does broadcasting work in NumPy?\n",
        "- Broadcasting lets you do math on arrays of different shapes.\n",
        "\n",
        "- It works by automatically stretching the smaller array.\n",
        "\n",
        "- This stretching is just virtual—it doesn’t copy a lot of data.\n",
        "\n",
        "- Arrays are compatible if their shapes match or one is size 1.\n",
        "\n",
        "- For example, if you add a 1D array to a 2D array, it can work.\n",
        "\n",
        "- NumPy checks compatibility from the last dimension to the first.\n",
        "\n",
        "- If needed, it adds “1s” to the shape of the smaller array.\n",
        "\n",
        "- Then, it stretches the smaller array to match the bigger one.\n",
        "\n",
        "- This lets you do fast math without writing extra code.\n",
        "\n",
        "- Broadcasting makes working with NumPy arrays easy and efficient!"
      ],
      "metadata": {
        "id": "edYNcxO8M2l0"
      }
    },
    {
      "cell_type": "markdown",
      "source": [
        "3.What is Pandas DataFrame?\n",
        "- A Pandas DataFrame is a two-dimensional data structure—like a table or spreadsheet—with rows and columns.\n",
        "\n",
        "- It organizes data in a way that makes it easy to view, analyze, and manipulate—similar to Excel tables or SQL database tables.\n",
        "\n",
        "- Each column in a DataFrame can have a different data type, and both rows and columns can have labels"
      ],
      "metadata": {
        "id": "CYobZGMbM2is"
      }
    },
    {
      "cell_type": "markdown",
      "source": [
        "4.Explain the use of the groupby() method in Pandas?\n",
        "- The groupby() method in Pandas is a powerful tool that allows you to group your data into meaningful categories based on the values in one or more columns. This is especially useful when you want to analyze or summarize your data according to certain features or labels.\n",
        "The groupby() method is essential for data analysis in Pandas. It enables you to break down your data into logical groups and perform calculations or summaries on each group, making it easier to gain insights and make decisions based on your data.\n",
        "- The groupby() method is essential for data analysis in Pandas. It enables you to break down your data into logical groups and perform calculations or summaries on each group, making it easier to gain insights and make decisions based on your data"
      ],
      "metadata": {
        "id": "vSipUpQ2M2gO"
      }
    },
    {
      "cell_type": "markdown",
      "source": [
        "5.Why is Seaborn preferred for statistical visualizations?\n",
        "- High-Level Interface: Seaborn is built on top of Matplotlib and provides a higher-level interface, making it easier to create complex statistical plots with minimal code. This means you can generate insightful visualizations quickly, which is especially useful for exploratory data analysis.\n",
        "- Attractive Defaults: Seaborn comes with built-in themes and color palettes that make plots visually appealing right out of the box, reducing the need for manual customization.\n",
        "- Specialized Statistical Functions: Seaborn offers a wide range of functions specifically designed for statistical plotting, such as box plots, violin plots, heatmaps, and pair plots. These functions abstract away much of the complexity involved in creating such visualizations with Matplotlib.\n",
        "\n",
        "- Integration with Pandas DataFrames: Seaborn is designed to work seamlessly with Pandas, allowing you to directly visualize data from DataFrames without extensive data manipulation.\n",
        "\n",
        "- Ease of Use: Creating statistical graphics is simpler with Seaborn, as it requires less boilerplate code compared to Matplotlib, especially for tasks like adding confidence intervals or grouping data\n"
      ],
      "metadata": {
        "id": "KJWAdul1M2dU"
      }
    },
    {
      "cell_type": "markdown",
      "source": [
        "6.What are the differences between NumPy arrays and Python lists?\n",
        "- Python lists can have different types of items (like numbers, words, or even other lists) all together.\n",
        "\n",
        "- NumPy arrays must have all items of the same type (like all numbers).\n",
        "- NumPy Arrays: Are much faster and more memory-efficient for numerical operations, especially with large datasets. This is because NumPy stores data in contiguous blocks of memory and uses optimized C-based operations.\n",
        "\n",
        "- Python Lists: Are slower for numerical computations and use more memory for the same amount of data, as each element is a separate object with its own type information\n",
        "- NumPy Arrays: Provide a wide range of mathematical and statistical functions (like mean, sum, matrix multiplication, broadcasting) that are not available for lists.\n",
        "\n",
        "- Python Lists: Offer general-purpose methods (append, remove, sort, etc.), but lack built-in mathematical operations for element-wise calculations\n",
        "- NumPy Arrays: Best suited for scientific computing, data analysis, and machine learning where speed and memory efficiency are important.\n",
        "\n",
        "- Python Lists: Ideal for general-purpose tasks where flexibility and mixed data types are needed\n"
      ],
      "metadata": {
        "id": "tQ8lmzD7M2a9"
      }
    },
    {
      "cell_type": "markdown",
      "source": [
        "7.What is a heatmap, and when should it be used?\n",
        "- A heatmap is a two-dimensional data visualization that uses color to represent the magnitude of values in a dataset. Each value in the dataset is shown as a colored cell in a grid, with different colors or shades indicating higher or lower values—often, darker or warmer colors represent higher values and lighter or cooler colors represent lower values\n",
        "- use a heatmap when you want to visually summarize and explore relationships or patterns in two-dimensional data, especially when working with large or complex datasets"
      ],
      "metadata": {
        "id": "gjbWHjX-M2VX"
      }
    },
    {
      "cell_type": "markdown",
      "source": [
        "8.What does the term “vectorized operation” mean in NumPy?\n",
        "- A vectorized operation in NumPy means performing a mathematical operation on entire arrays at once, without writing explicit loops in Python. Instead of processing each element individually (as you would with a for loop), NumPy uses optimized, pre-compiled code (often written in C) to apply the operation to all elements in the array at the same time.\n",
        "- This approach is much faster and more efficient because it takes advantage of NumPy’s underlying structure and hardware optimizations. For example, adding a number to every element in a NumPy array is a vectorized operation—it happens in a single step, not one element at a time. This is why NumPy is widely used for scientific computing and data analysis"
      ],
      "metadata": {
        "id": "nGqn4-Y2M2R4"
      }
    },
    {
      "cell_type": "markdown",
      "source": [
        "9.How does Matplotlib differ from Plotly?\n",
        "\n",
        "- Matplotlib\n",
        "\n",
        "  - Creates mostly static, high-quality plots.\n",
        "\n",
        "  - Very customizable—you can control almost every detail of your plot.\n",
        "  - Uses an object-oriented or imperative style, which means you may need to write more code for advanced plots.\n",
        "  - Plots are static by default; you need extra code or tools to make them interactive.\n",
        "\n",
        "  - Works well with scientific and data analysis tools and is the foundation for other libraries like Seaborn.\n",
        "  - Best for creating detailed, publication-ready plots for reports, papers, or presentations.\n",
        "  - Plots are simple and clear, but may need extra work to look modern or stylish.\n",
        "  - Can be a bit challenging for beginners, especially for advanced customization.\n",
        "\n",
        "  - Handles large datasets efficiently for static plots.\n",
        "\n",
        "- Plotly\n",
        "  - Creates interactive, web-based visualizations.\n",
        "\n",
        "  - Good-looking plots by default, but detailed customization can require more effort.\n",
        "\n",
        "  - Uses a declarative, figure-centric style, so you often need less code for interactive plots.\n",
        "\n",
        "  - Plots are interactive by default—users can zoom, pan, hover, and get tooltips.\n",
        "\n",
        "  - Integrates easily with web frameworks and dashboard tools like Dash.\n",
        "\n",
        "  - Best for building interactive dashboards, web apps, and exploring data.\n",
        "\n",
        "  - Produces polished, modern-looking charts right away.\n",
        "\n",
        "  - Easier for making interactive plots, but complex customization can be tricky.\n",
        "\n",
        "  - May slow down with very large datasets due to browser rendering."
      ],
      "metadata": {
        "id": "MBlQo-SsM2Nh"
      }
    },
    {
      "cell_type": "markdown",
      "source": [
        "10.What is the significance of hierarchical indexing in Pandas?\n",
        "- \\Hierarchical indexing in Pandas lets you organize and group data using multiple levels of labels, not just single ones. This makes it easier to work with complex data by allowing you to access, filter, and summarize information across different categories or groups efficiently. For example, you can analyze sales by both product category and region in a single, well-structured table.\n",
        "-"
      ],
      "metadata": {
        "id": "bZAIAZ1IM2K8"
      }
    },
    {
      "cell_type": "markdown",
      "source": [
        "11.What is the role of Seaborn’s pairplot() function?\n",
        "- The role of Seaborn’s pairplot() function is to create a grid of plots showing the pairwise relationships between all numeric variables in a dataset. Each cell in the grid is a scatter plot (by default) comparing two variables, while the diagonal cells display histograms or kernel density estimates showing the distribution of each variable.\n",
        "\n",
        "- This function helps you quickly visualize and\n",
        "\n",
        "---\n",
        "\n",
        "understand how different variables in your data relate to each other, making it especially useful for exploratory data analysis. Using pairplot(), you can spot patterns, trends, or outliers across multiple variables at once, all summarized in a single, easy-to-read figure\n"
      ],
      "metadata": {
        "id": "gvSBfjAyM2IO"
      }
    },
    {
      "cell_type": "markdown",
      "source": [
        "12.What is the purpose of the describe() function in Pandas?\n",
        "- he purpose of the describe() function in Pandas is to quickly generate a summary of descriptive statistics for a DataFrame or Series. These statistics help you understand the central tendency, dispersion, and shape of your data’s distribution, typically for numeric columns by default\n",
        "- The describe() function gives a quick, useful overview of your data, making it easier to spot patterns, outliers, or issues at the start of your analysis"
      ],
      "metadata": {
        "id": "9rEv4DmjM2Fn"
      }
    },
    {
      "cell_type": "markdown",
      "source": [
        "13.Why is handling missing data important in Pandas?\n",
        "- Handling missing data is important in Pandas because missing values can lead to incorrect or misleading results in data analysis and modeling. If ignored, missing data can skew calculations, reduce the quality of insights, and cause errors in machine learning models. Pandas provides tools to detect, remove, or fill missing values, ensuring that your analysis is accurate and reliable. Properly managing missing data helps maintain the integrity and usefulness of your dataset"
      ],
      "metadata": {
        "id": "8qwUwFv5M2C3"
      }
    },
    {
      "cell_type": "markdown",
      "source": [
        "14.What are the benefits of using Plotly for data visualization?\n",
        "- Plotly makes data visualization easy and powerful. Its charts are interactive—you can zoom, hover, and see details. It supports many types of charts, looks modern, and works well with web apps and dashboards. Plotly is simple to use and lets you share your visualizations easily"
      ],
      "metadata": {
        "id": "kPPwE5UOM2AM"
      }
    },
    {
      "cell_type": "markdown",
      "source": [
        "15.How does NumPy handle multidimensional arrays?\n",
        "- NumPy handles multidimensional arrays by organizing data in structures called ndarrays (N-dimensional arrays), which can have one, two, or more dimensions. Each element in these arrays is accessed using a set of indices—for example, a 2D array uses row and column indices, while a 3D array adds a third index for depth.\n",
        "- You can create multidimensional arrays using functions like array(), reshape(), zeros(), or ones(). Mathematical operations (such as addition or multiplication) work element-wise, and you can perform advanced operations like matrix multiplication using the dot() function. Slicing and indexing let you access or modify specific parts of the array, such as rows, columns, or blocks of data"
      ],
      "metadata": {
        "id": "bM7SJn-ZM19Y"
      }
    },
    {
      "cell_type": "markdown",
      "source": [
        "16.What is the role of Bokeh in data visualization?\n",
        "- Bokeh is a Python library that creates highly interactive and visually appealing graphs and dashboards for data visualization. Its main role is to help users explore data through interactive plots, such as scatter plots, bar charts, and line graphs, which can be embedded in web pages, notebooks, or dashboards. Bokeh is especially useful when you want to build web-based, interactive data applications or share dynamic visualizations with others. It supports real-time data streaming, custom styling, and integration with other Python data tools, making it a powerful choice for both data exploration and presentation"
      ],
      "metadata": {
        "id": "zl6_8RKVM16n"
      }
    },
    {
      "cell_type": "markdown",
      "source": [
        "17.Explain the difference between apply() and map() in Pandas?\n",
        "- map()\n",
        "\n",
        "  - Series only (not DataFrames)\n",
        "\n",
        "  - For element-wise operations (applies a function or mapping to each element in a Series)\n",
        "\n",
        "  - Accepts a function, dictionary, or Series\n",
        "  - Best for simple value replacement or conversion, like mapping categories to numbers\n",
        "\n",
        "- apply()\n",
        "\n",
        "  - Both Series and DataFrame\n",
        "\n",
        "  - More flexible—can apply a function to each element, row, or column depending on the context\n",
        "\n",
        "  - Accepts a function (callable)\n",
        "  - For more complex operations, such as applying a custom function to each row or column, or for aggregation"
      ],
      "metadata": {
        "id": "McDkugJPM11M"
      }
    },
    {
      "cell_type": "markdown",
      "source": [
        "18.What are some advanced features of NumPy?\n",
        "\n",
        "- NumPy offers several advanced features that extend its usefulness for scientific computing and data analysis:\n",
        "\n",
        "  - Universal Functions (ufuncs):\n",
        "These are fast, element-wise functions that operate on entire arrays, supporting broadcasting and reduction operations.\n",
        "\n",
        "  - Broadcasting:\n",
        "Allows operations on arrays of different shapes by automatically expanding them to a common shape for computation.\n",
        "\n",
        "  - Advanced Indexing:\n",
        "Supports complex ways to access or modify array elements using integer or boolean arrays, not just simple slicing.\n",
        "\n",
        "  - Strides and Memory Layout:\n",
        "Controls how data is accessed in memory, enabling efficient operations and avoiding unnecessary copies.\n",
        "\n",
        "  - Integration with Other Tools:\n",
        "NumPy can wrap data from various sources into ndarrays without copying, and supports integration with C, Fortran, and other languages.\n",
        "\n",
        "  - Specialized Functions:\n",
        "Includes functions for generating sequences (like np.linspace(), np.logspace()), creating grids (np.meshgrid()), and padding arrays (np.pad()).\n",
        "\n",
        "  - Custom ufunc Creation:\n",
        "Allows users to create their own universal functions using np.frompyfunc or np.vectorize (though these are slower than built-in ufuncs).\n",
        "\n",
        "  - Data Type Hierarchy and Checking:\n",
        "Provides tools to check and manage data types, including superclasses for numeric types"
      ],
      "metadata": {
        "id": "qRsv80auM1yK"
      }
    },
    {
      "cell_type": "markdown",
      "source": [
        "19.How does Pandas simplify time series analysis?\n",
        "- Pandas makes time series analysis easy by letting you use dates as indexes. You can filter, resample, and shift data by time periods quickly. It also helps you calculate moving averages, handle missing data, and plot your results with just a few lines of code"
      ],
      "metadata": {
        "id": "o6AXsmmEM1vf"
      }
    },
    {
      "cell_type": "markdown",
      "source": [
        "20.What is the role of a pivot table in Pandas?\n",
        "- A pivot table in Pandas is a tool for summarizing and reshaping data so you can analyze it more easily. It lets you “pivot” or rotate data, turning rows into columns and vice versa, so you can view your data in a new way.\n",
        "\n",
        "- You specify which column values should become rows (index), which should become columns (columns), and which values to summarize (values). You can also choose how to aggregate the data, such as by calculating the mean, sum, or count. This helps you quickly spot patterns, trends, or relationships in your dataset, making complex data much simpler to understand and analyze"
      ],
      "metadata": {
        "id": "tOnvfMwwM1kt"
      }
    },
    {
      "cell_type": "markdown",
      "source": [
        "21.Why is NumPy’s array slicing faster than Python’s list slicing?\n",
        "- NumPy’s array slicing is faster than Python’s list slicing because NumPy arrays store data in a continuous block of memory with a fixed data type, which allows for highly efficient memory access and optimized operations. When you slice a NumPy array, the operation is implemented in low-level, compiled code (often using SIMD instructions), and the data is already organized in a way that minimizes cache misses and maximizes speed\n",
        "- NumPy’s design—homogeneous data types and contiguous memory—makes array slicing much faster than Python list slicing for large datasets"
      ],
      "metadata": {
        "id": "JVqtWwhMdNc9"
      }
    },
    {
      "cell_type": "markdown",
      "source": [
        "22.What are some common use cases for Seaborn?\n",
        "\n",
        "- Seaborn is used for creating attractive and informative data visualizations in Python.\n",
        "\n",
        "- It is commonly used for exploring and understanding data distributions with histograms and density plots.\n",
        "\n",
        "- Seaborn helps compare groups using bar plots, boxplots, or violin plots.\n",
        "\n",
        "- It is great for visualizing relationships between two or more variables with scatter plots.\n",
        "\n",
        "- Seaborn can create heatmaps to display correlation or large data tables.\n",
        "\n",
        "- Pair plots allow for quick comparison of multiple variables at once.\n",
        "\n",
        "- Facet grids help visualize complex data by making multiple plots side by side.\n",
        "\n",
        "- Seaborn’s built-in themes and color palettes make graphs look professional.\n",
        "\n",
        "- It is widely used for statistical data analysis and presentation.\n",
        "\n",
        "- Seaborn simplifies the process of generating publication-quality visuals with minimal code."
      ],
      "metadata": {
        "id": "M0D41Kq1ddeT"
      }
    },
    {
      "cell_type": "markdown",
      "source": [],
      "metadata": {
        "id": "tCFeK1iwM1HE"
      }
    },
    {
      "cell_type": "markdown",
      "source": [
        "#Practical Questions\n"
      ],
      "metadata": {
        "id": "UluonJWZMsp-"
      }
    },
    {
      "cell_type": "code",
      "execution_count": null,
      "metadata": {
        "colab": {
          "base_uri": "https://localhost:8080/"
        },
        "id": "cJt7TQU3CO6L",
        "outputId": "74c35171-23ee-457f-fd0f-37c1d57f878d"
      },
      "outputs": [
        {
          "output_type": "stream",
          "name": "stdout",
          "text": [
            "Sum of each row: [1 5]\n"
          ]
        }
      ],
      "source": [
        "#1.How do you create a 2D NumPy array and calculate the sum of each row\n",
        "import numpy as np\n",
        "\n",
        "arr = np.array([[0, 1], [2, 3]])\n",
        "\n",
        "row_sums = np.sum(arr, axis=1)\n",
        "print(\"Sum of each row:\", row_sums)\n"
      ]
    },
    {
      "cell_type": "code",
      "source": [
        "#2.Write a Pandas script to find the mean of a specific column in a DataFrame\n",
        "import pandas as pd\n",
        "\n",
        "data = {\n",
        "    'A': [1, 2, 3],\n",
        "    'B': [4, 5, 6]\n",
        "}\n",
        "df = pd.DataFrame(data)\n",
        "\n",
        "mean_value = df['B'].mean()\n",
        "print(\"Mean of column 'B':\", mean_value)\n"
      ],
      "metadata": {
        "colab": {
          "base_uri": "https://localhost:8080/"
        },
        "id": "6uNViWesCrDp",
        "outputId": "8190c307-a9c3-46f3-fe7a-529713b37598"
      },
      "execution_count": null,
      "outputs": [
        {
          "output_type": "stream",
          "name": "stdout",
          "text": [
            "Mean of column 'B': 5.0\n"
          ]
        }
      ]
    },
    {
      "cell_type": "code",
      "source": [
        "#3.Create a scatter plot using Matplotlib\n",
        "import matplotlib.pyplot as plt\n",
        "\n",
        "x = [5, 7, 8, 7, 2, 17, 2, 9, 4, 11, 12, 9, 6]\n",
        "y = [99, 86, 87, 88, 111, 86, 103, 87, 94, 78, 77, 85, 86]\n",
        "\n",
        "plt.scatter(x, y)\n",
        "\n",
        "plt.xlabel('X values')\n",
        "plt.ylabel('Y values')\n",
        "plt.title('Scatter Plot Example')\n",
        "\n",
        "plt.show()\n"
      ],
      "metadata": {
        "colab": {
          "base_uri": "https://localhost:8080/",
          "height": 472
        },
        "id": "XlmARWjTC2Lk",
        "outputId": "4d8034f2-dade-43df-8891-d4bb4f2629f6"
      },
      "execution_count": 20,
      "outputs": [
        {
          "output_type": "display_data",
          "data": {
            "text/plain": [
              "<Figure size 640x480 with 1 Axes>"
            ],
            "image/png": "[encoded data removed]"
          },
          "metadata": {}
        }
      ]
    },
    {
      "cell_type": "code",
      "source": [
        "#4.How do you calculate the correlation matrix using Seaborn and visualize it with a heatmap\n",
        "import seaborn as sns\n",
        "import pandas as pd\n",
        "import matplotlib.pyplot as plt\n",
        "\n",
        "df = pd.DataFrame({\n",
        "    'A': [1, 2, 3, 4, 5],\n",
        "    'B': [5, 4, 3, 2, 1],\n",
        "    'C': [2, 3, 4, 5, 6]\n",
        "})\n",
        "\n",
        "\n",
        "corr_matrix = df.corr()\n",
        "\n",
        "plt.figure(figsize=(10, 6))\n",
        "sns.heatmap(corr_matrix, annot=True, cmap='coolwarm', center=0)\n",
        "plt.title('Correlation Matrix Heatmap')\n",
        "plt.show()\n"
      ],
      "metadata": {
        "colab": {
          "base_uri": "https://localhost:8080/",
          "height": 545
        },
        "id": "-Pz1duYxC-_-",
        "outputId": "454eacfb-fab2-411d-93d3-34b3bd2ab3fe"
      },
      "execution_count": null,
      "outputs": [
        {
          "output_type": "display_data",
          "data": {
            "text/plain": [
              "<Figure size 1000x600 with 2 Axes>"
            ],
            "image/png": "[encoded data removed]"
          },
          "metadata": {}
        }
      ]
    },
    {
      "cell_type": "code",
      "source": [
        "#5.Generate a bar plot using Plotly\n",
        "import plotly.express as px\n",
        "import pandas as pd\n",
        "\n",
        "df = pd.DataFrame({'Categories': ['A', 'B', 'C', 'D'], 'Values': [10, 15, 7, 12]})\n",
        "\n",
        "fig = px.bar(df, x='Categories', y='Values', title='Sample Bar Plot')\n",
        "fig.show()\n"
      ],
      "metadata": {
        "colab": {
          "base_uri": "https://localhost:8080/",
          "height": 542
        },
        "id": "cmMMOVtRDKaG",
        "outputId": "822b9505-2b50-45a7-ec57-a1c20e16c460"
      },
      "execution_count": null,
      "outputs": [
        {
          "output_type": "display_data",
          "data": {
            "text/html": [
              "<html>\n",
              "<head><meta charset=\"utf-8\" /></head>\n",
              "<body>\n",
              "    <div>            <script src=\"https://cdnjs.cloudflare.com/ajax/libs/mathjax/2.7.5/MathJax.js?config=TeX-AMS-MML_SVG\"></script><script type=\"text/javascript\">if (window.MathJax && window.MathJax.Hub && window.MathJax.Hub.Config) {window.MathJax.Hub.Config({SVG: {font: \"STIX-Web\"}});}</script>                <script type=\"text/javascript\">window.PlotlyConfig = {MathJaxConfig: 'local'};</script>\n",
              "        <script charset=\"utf-8\" src=\"https://cdn.plot.ly/plotly-2.35.2.min.js\"></script>                <div id=\"595abaf3-1473-4114-8c23-a7610bbd8e46\" class=\"plotly-graph-div\" style=\"height:525px; width:100%;\"></div>            <script type=\"text/javascript\">                                    window.PLOTLYENV=window.PLOTLYENV || {};                                    if (document.getElementById(\"595abaf3-1473-4114-8c23-a7610bbd8e46\")) {                    Plotly.newPlot(                        \"595abaf3-1473-4114-8c23-a7610bbd8e46\",                        [{\"alignmentgroup\":\"True\",\"hovertemplate\":\"Categories=%{x}\\u003cbr\\u003eValues=%{y}\\u003cextra\\u003e\\u003c\\u002fextra\\u003e\",\"legendgroup\":\"\",\"marker\":{\"color\":\"#636efa\",\"pattern\":{\"shape\":\"\"}},\"name\":\"\",\"offsetgroup\":\"\",\"orientation\":\"v\",\"showlegend\":false,\"textposition\":\"auto\",\"x\":[\"A\",\"B\",\"C\",\"D\"],\"xaxis\":\"x\",\"y\":[10,15,7,12],\"yaxis\":\"y\",\"type\":\"bar\"}],                        {\"template\":{\"data\":{\"histogram2dcontour\":[{\"type\":\"histogram2dcontour\",\"colorbar\":{\"outlinewidth\":0,\"ticks\":\"\"},\"colorscale\":[[0.0,\"#0d0887\"],[0.1111111111111111,\"#46039f\"],[0.2222222222222222,\"#7201a8\"],[0.3333333333333333,\"#9c179e\"],[0.4444444444444444,\"#bd3786\"],[0.5555555555555556,\"#d8576b\"],[0.6666666666666666,\"#ed7953\"],[0.7777777777777778,\"#fb9f3a\"],[0.8888888888888888,\"#fdca26\"],[1.0,\"#f0f921\"]]}],\"choropleth\":[{\"type\":\"choropleth\",\"colorbar\":{\"outlinewidth\":0,\"ticks\":\"\"}}],\"histogram2d\":[{\"type\":\"histogram2d\",\"colorbar\":{\"outlinewidth\":0,\"ticks\":\"\"},\"colorscale\":[[0.0,\"#0d0887\"],[0.1111111111111111,\"#46039f\"],[0.2222222222222222,\"#7201a8\"],[0.3333333333333333,\"#9c179e\"],[0.4444444444444444,\"#bd3786\"],[0.5555555555555556,\"#d8576b\"],[0.6666666666666666,\"#ed7953\"],[0.7777777777777778,\"#fb9f3a\"],[0.8888888888888888,\"#fdca26\"],[1.0,\"#f0f921\"]]}],\"heatmap\":[{\"type\":\"heatmap\",\"colorbar\":{\"outlinewidth\":0,\"ticks\":\"\"},\"colorscale\":[[0.0,\"#0d0887\"],[0.1111111111111111,\"#46039f\"],[0.2222222222222222,\"#7201a8\"],[0.3333333333333333,\"#9c179e\"],[0.4444444444444444,\"#bd3786\"],[0.5555555555555556,\"#d8576b\"],[0.6666666666666666,\"#ed7953\"],[0.7777777777777778,\"#fb9f3a\"],[0.8888888888888888,\"#fdca26\"],[1.0,\"#f0f921\"]]}],\"heatmapgl\":[{\"type\":\"heatmapgl\",\"colorbar\":{\"outlinewidth\":0,\"ticks\":\"\"},\"colorscale\":[[0.0,\"#0d0887\"],[0.1111111111111111,\"#46039f\"],[0.2222222222222222,\"#7201a8\"],[0.3333333333333333,\"#9c179e\"],[0.4444444444444444,\"#bd3786\"],[0.5555555555555556,\"#d8576b\"],[0.6666666666666666,\"#ed7953\"],[0.7777777777777778,\"#fb9f3a\"],[0.8888888888888888,\"#fdca26\"],[1.0,\"#f0f921\"]]}],\"contourcarpet\":[{\"type\":\"contourcarpet\",\"colorbar\":{\"outlinewidth\":0,\"ticks\":\"\"}}],\"contour\":[{\"type\":\"contour\",\"colorbar\":{\"outlinewidth\":0,\"ticks\":\"\"},\"colorscale\":[[0.0,\"#0d0887\"],[0.1111111111111111,\"#46039f\"],[0.2222222222222222,\"#7201a8\"],[0.3333333333333333,\"#9c179e\"],[0.4444444444444444,\"#bd3786\"],[0.5555555555555556,\"#d8576b\"],[0.6666666666666666,\"#ed7953\"],[0.7777777777777778,\"#fb9f3a\"],[0.8888888888888888,\"#fdca26\"],[1.0,\"#f0f921\"]]}],\"surface\":[{\"type\":\"surface\",\"colorbar\":{\"outlinewidth\":0,\"ticks\":\"\"},\"colorscale\":[[0.0,\"#0d0887\"],[0.1111111111111111,\"#46039f\"],[0.2222222222222222,\"#7201a8\"],[0.3333333333333333,\"#9c179e\"],[0.4444444444444444,\"#bd3786\"],[0.5555555555555556,\"#d8576b\"],[0.6666666666666666,\"#ed7953\"],[0.7777777777777778,\"#fb9f3a\"],[0.8888888888888888,\"#fdca26\"],[1.0,\"#f0f921\"]]}],\"mesh3d\":[{\"type\":\"mesh3d\",\"colorbar\":{\"outlinewidth\":0,\"ticks\":\"\"}}],\"scatter\":[{\"fillpattern\":{\"fillmode\":\"overlay\",\"size\":10,\"solidity\":0.2},\"type\":\"scatter\"}],\"parcoords\":[{\"type\":\"parcoords\",\"line\":{\"colorbar\":{\"outlinewidth\":0,\"ticks\":\"\"}}}],\"scatterpolargl\":[{\"type\":\"scatterpolargl\",\"marker\":{\"colorbar\":{\"outlinewidth\":0,\"ticks\":\"\"}}}],\"bar\":[{\"error_x\":{\"color\":\"#2a3f5f\"},\"error_y\":{\"color\":\"#2a3f5f\"},\"marker\":{\"line\":{\"color\":\"#E5ECF6\",\"width\":0.5},\"pattern\":{\"fillmode\":\"overlay\",\"size\":10,\"solidity\":0.2}},\"type\":\"bar\"}],\"scattergeo\":[{\"type\":\"scattergeo\",\"marker\":{\"colorbar\":{\"outlinewidth\":0,\"ticks\":\"\"}}}],\"scatterpolar\":[{\"type\":\"scatterpolar\",\"marker\":{\"colorbar\":{\"outlinewidth\":0,\"ticks\":\"\"}}}],\"histogram\":[{\"marker\":{\"pattern\":{\"fillmode\":\"overlay\",\"size\":10,\"solidity\":0.2}},\"type\":\"histogram\"}],\"scattergl\":[{\"type\":\"scattergl\",\"marker\":{\"colorbar\":{\"outlinewidth\":0,\"ticks\":\"\"}}}],\"scatter3d\":[{\"type\":\"scatter3d\",\"line\":{\"colorbar\":{\"outlinewidth\":0,\"ticks\":\"\"}},\"marker\":{\"colorbar\":{\"outlinewidth\":0,\"ticks\":\"\"}}}],\"scattermapbox\":[{\"type\":\"scattermapbox\",\"marker\":{\"colorbar\":{\"outlinewidth\":0,\"ticks\":\"\"}}}],\"scatterternary\":[{\"type\":\"scatterternary\",\"marker\":{\"colorbar\":{\"outlinewidth\":0,\"ticks\":\"\"}}}],\"scattercarpet\":[{\"type\":\"scattercarpet\",\"marker\":{\"colorbar\":{\"outlinewidth\":0,\"ticks\":\"\"}}}],\"carpet\":[{\"aaxis\":{\"endlinecolor\":\"#2a3f5f\",\"gridcolor\":\"white\",\"linecolor\":\"white\",\"minorgridcolor\":\"white\",\"startlinecolor\":\"#2a3f5f\"},\"baxis\":{\"endlinecolor\":\"#2a3f5f\",\"gridcolor\":\"white\",\"linecolor\":\"white\",\"minorgridcolor\":\"white\",\"startlinecolor\":\"#2a3f5f\"},\"type\":\"carpet\"}],\"table\":[{\"cells\":{\"fill\":{\"color\":\"#EBF0F8\"},\"line\":{\"color\":\"white\"}},\"header\":{\"fill\":{\"color\":\"#C8D4E3\"},\"line\":{\"color\":\"white\"}},\"type\":\"table\"}],\"barpolar\":[{\"marker\":{\"line\":{\"color\":\"#E5ECF6\",\"width\":0.5},\"pattern\":{\"fillmode\":\"overlay\",\"size\":10,\"solidity\":0.2}},\"type\":\"barpolar\"}],\"pie\":[{\"automargin\":true,\"type\":\"pie\"}]},\"layout\":{\"autotypenumbers\":\"strict\",\"colorway\":[\"#636efa\",\"#EF553B\",\"#00cc96\",\"#ab63fa\",\"#FFA15A\",\"#19d3f3\",\"#FF6692\",\"#B6E880\",\"#FF97FF\",\"#FECB52\"],\"font\":{\"color\":\"#2a3f5f\"},\"hovermode\":\"closest\",\"hoverlabel\":{\"align\":\"left\"},\"paper_bgcolor\":\"white\",\"plot_bgcolor\":\"#E5ECF6\",\"polar\":{\"bgcolor\":\"#E5ECF6\",\"angularaxis\":{\"gridcolor\":\"white\",\"linecolor\":\"white\",\"ticks\":\"\"},\"radialaxis\":{\"gridcolor\":\"white\",\"linecolor\":\"white\",\"ticks\":\"\"}},\"ternary\":{\"bgcolor\":\"#E5ECF6\",\"aaxis\":{\"gridcolor\":\"white\",\"linecolor\":\"white\",\"ticks\":\"\"},\"baxis\":{\"gridcolor\":\"white\",\"linecolor\":\"white\",\"ticks\":\"\"},\"caxis\":{\"gridcolor\":\"white\",\"linecolor\":\"white\",\"ticks\":\"\"}},\"coloraxis\":{\"colorbar\":{\"outlinewidth\":0,\"ticks\":\"\"}},\"colorscale\":{\"sequential\":[[0.0,\"#0d0887\"],[0.1111111111111111,\"#46039f\"],[0.2222222222222222,\"#7201a8\"],[0.3333333333333333,\"#9c179e\"],[0.4444444444444444,\"#bd3786\"],[0.5555555555555556,\"#d8576b\"],[0.6666666666666666,\"#ed7953\"],[0.7777777777777778,\"#fb9f3a\"],[0.8888888888888888,\"#fdca26\"],[1.0,\"#f0f921\"]],\"sequentialminus\":[[0.0,\"#0d0887\"],[0.1111111111111111,\"#46039f\"],[0.2222222222222222,\"#7201a8\"],[0.3333333333333333,\"#9c179e\"],[0.4444444444444444,\"#bd3786\"],[0.5555555555555556,\"#d8576b\"],[0.6666666666666666,\"#ed7953\"],[0.7777777777777778,\"#fb9f3a\"],[0.8888888888888888,\"#fdca26\"],[1.0,\"#f0f921\"]],\"diverging\":[[0,\"#8e0152\"],[0.1,\"#c51b7d\"],[0.2,\"#de77ae\"],[0.3,\"#f1b6da\"],[0.4,\"#fde0ef\"],[0.5,\"#f7f7f7\"],[0.6,\"#e6f5d0\"],[0.7,\"#b8e186\"],[0.8,\"#7fbc41\"],[0.9,\"#4d9221\"],[1,\"#276419\"]]},\"xaxis\":{\"gridcolor\":\"white\",\"linecolor\":\"white\",\"ticks\":\"\",\"title\":{\"standoff\":15},\"zerolinecolor\":\"white\",\"automargin\":true,\"zerolinewidth\":2},\"yaxis\":{\"gridcolor\":\"white\",\"linecolor\":\"white\",\"ticks\":\"\",\"title\":{\"standoff\":15},\"zerolinecolor\":\"white\",\"automargin\":true,\"zerolinewidth\":2},\"scene\":{\"xaxis\":{\"backgroundcolor\":\"#E5ECF6\",\"gridcolor\":\"white\",\"linecolor\":\"white\",\"showbackground\":true,\"ticks\":\"\",\"zerolinecolor\":\"white\",\"gridwidth\":2},\"yaxis\":{\"backgroundcolor\":\"#E5ECF6\",\"gridcolor\":\"white\",\"linecolor\":\"white\",\"showbackground\":true,\"ticks\":\"\",\"zerolinecolor\":\"white\",\"gridwidth\":2},\"zaxis\":{\"backgroundcolor\":\"#E5ECF6\",\"gridcolor\":\"white\",\"linecolor\":\"white\",\"showbackground\":true,\"ticks\":\"\",\"zerolinecolor\":\"white\",\"gridwidth\":2}},\"shapedefaults\":{\"line\":{\"color\":\"#2a3f5f\"}},\"annotationdefaults\":{\"arrowcolor\":\"#2a3f5f\",\"arrowhead\":0,\"arrowwidth\":1},\"geo\":{\"bgcolor\":\"white\",\"landcolor\":\"#E5ECF6\",\"subunitcolor\":\"white\",\"showland\":true,\"showlakes\":true,\"lakecolor\":\"white\"},\"title\":{\"x\":0.05},\"mapbox\":{\"style\":\"light\"}}},\"xaxis\":{\"anchor\":\"y\",\"domain\":[0.0,1.0],\"title\":{\"text\":\"Categories\"}},\"yaxis\":{\"anchor\":\"x\",\"domain\":[0.0,1.0],\"title\":{\"text\":\"Values\"}},\"legend\":{\"tracegroupgap\":0},\"title\":{\"text\":\"Sample Bar Plot\"},\"barmode\":\"relative\"},                        {\"responsive\": true}                    ).then(function(){\n",
              "                            \n",
              "var gd = document.getElementById('595abaf3-1473-4114-8c23-a7610bbd8e46');\n",
              "var x = new MutationObserver(function (mutations, observer) {{\n",
              "        var display = window.getComputedStyle(gd).display;\n",
              "        if (!display || display === 'none') {{\n",
              "            console.log([gd, 'removed!']);\n",
              "            Plotly.purge(gd);\n",
              "            observer.disconnect();\n",
              "        }}\n",
              "}});\n",
              "\n",
              "// Listen for the removal of the full notebook cells\n",
              "var notebookContainer = gd.closest('#notebook-container');\n",
              "if (notebookContainer) {{\n",
              "    x.observe(notebookContainer, {childList: true});\n",
              "}}\n",
              "\n",
              "// Listen for the clearing of the current output cell\n",
              "var outputEl = gd.closest('.output');\n",
              "if (outputEl) {{\n",
              "    x.observe(outputEl, {childList: true});\n",
              "}}\n",
              "\n",
              "                        })                };                            </script>        </div>\n",
              "</body>\n",
              "</html>"
            ]
          },
          "metadata": {}
        }
      ]
    },
    {
      "cell_type": "code",
      "source": [
        "#6.Create a DataFrame and add a new column based on an existing column\n",
        "import pandas as pd\n",
        "\n",
        "df = pd.DataFrame({\n",
        "    'A': [10, 20, 30, 40],\n",
        "    'B': [100, 200, 300, 400]\n",
        "})\n",
        "\n",
        "df['C'] = df['A'] * 2\n",
        "\n",
        "print(df)\n"
      ],
      "metadata": {
        "colab": {
          "base_uri": "https://localhost:8080/"
        },
        "id": "iSlgjsH9DZiB",
        "outputId": "80cf9f82-de93-4f76-c497-a769b9dbfa66"
      },
      "execution_count": 19,
      "outputs": [
        {
          "output_type": "stream",
          "name": "stdout",
          "text": [
            "    A    B   C\n",
            "0  10  100  20\n",
            "1  20  200  40\n",
            "2  30  300  60\n",
            "3  40  400  80\n"
          ]
        }
      ]
    },
    {
      "cell_type": "code",
      "source": [
        "#7.Write a program to perform element-wise multiplication of two Numpy arrays\n",
        "import numpy as np\n",
        "\n",
        "a = np.array([1, 2, 3])\n",
        "b = np.array([4, 5, 6])\n",
        "\n",
        "result = a * b\n",
        "\n",
        "print(result)\n"
      ],
      "metadata": {
        "colab": {
          "base_uri": "https://localhost:8080/"
        },
        "id": "WK65fGTXDkTK",
        "outputId": "db0de30c-71da-4f3e-c674-762276920be3"
      },
      "execution_count": null,
      "outputs": [
        {
          "output_type": "stream",
          "name": "stdout",
          "text": [
            "[ 4 10 18]\n"
          ]
        }
      ]
    },
    {
      "cell_type": "code",
      "source": [
        "#8.Create a line plot with multiple lines using Matplotlib.\n",
        "import matplotlib.pyplot as plt\n",
        "\n",
        "x = [1, 2, 3, 4, 5]\n",
        "y1 = [2, 4, 6, 8, 10]\n",
        "y2 = [1, 3, 5, 7, 9]\n",
        "y3 = [5, 4, 3, 2, 1]\n",
        "\n",
        "plt.plot(x, y1, label='Line 1')\n",
        "plt.plot(x, y2, label='Line 2')\n",
        "plt.plot(x, y3, label='Line 3')\n",
        "\n",
        "plt.legend()\n",
        "plt.xlabel('X-axis')\n",
        "plt.ylabel('Y-axis')\n",
        "plt.title('Multiple Line Plot')\n",
        "\n",
        "plt.show()\n"
      ],
      "metadata": {
        "colab": {
          "base_uri": "https://localhost:8080/",
          "height": 472
        },
        "id": "1SzXcex5DsTa",
        "outputId": "ae630c7d-1849-4ae7-e16d-3603d2185f5a"
      },
      "execution_count": null,
      "outputs": [
        {
          "output_type": "display_data",
          "data": {
            "text/plain": [
              "<Figure size 640x480 with 1 Axes>"
            ],
            "image/png": "[encoded data removed]"
          },
          "metadata": {}
        }
      ]
    },
    {
      "cell_type": "code",
      "source": [
        "#9.Generate a Pandas DataFrame and filter rows where a column value is greater than a threshold\n",
        "import pandas as pd\n",
        "\n",
        "df = pd.DataFrame({\n",
        "    'Name': ['Alice', 'Bob', 'Charlie', 'David'],\n",
        "    'Score': [85, 92, 78, 90]\n",
        "})\n",
        "\n",
        "filtered_df = df[df['Score'] > 85]\n",
        "\n",
        "print(filtered_df)\n"
      ],
      "metadata": {
        "colab": {
          "base_uri": "https://localhost:8080/"
        },
        "id": "3xl2EMQ7D2DG",
        "outputId": "ef0bd6e9-0cf0-4ae4-b49c-36e5f20aa2d8"
      },
      "execution_count": null,
      "outputs": [
        {
          "output_type": "stream",
          "name": "stdout",
          "text": [
            "    Name  Score\n",
            "1    Bob     92\n",
            "3  David     90\n"
          ]
        }
      ]
    },
    {
      "cell_type": "code",
      "source": [
        "#10. Create a histogram using seaborn to visualize a distribution\n",
        "import seaborn as sns\n",
        "import matplotlib.pyplot as plt\n",
        "\n",
        "df = sns.load_dataset(\"iris\")\n",
        "\n",
        "sns.histplot(data=df, x=\"sepal_length\", bins=15, color=\"blue\")\n",
        "\n",
        "plt.title(\"Distribution of Sepal Length\")\n",
        "plt.xlabel(\"Sepal Length (cm)\")\n",
        "plt.ylabel(\"Frequency\")\n",
        "\n",
        "plt.show()\n"
      ],
      "metadata": {
        "colab": {
          "base_uri": "https://localhost:8080/",
          "height": 472
        },
        "id": "1lSX09urD_a5",
        "outputId": "ddae0169-01c7-42e0-8f00-97c99498dbb1"
      },
      "execution_count": null,
      "outputs": [
        {
          "output_type": "display_data",
          "data": {
            "text/plain": [
              "<Figure size 640x480 with 1 Axes>"
            ],
            "image/png": "[encoded data removed]"
          },
          "metadata": {}
        }
      ]
    },
    {
      "cell_type": "code",
      "source": [
        "#11.Perform matrix multiplication using Numpy\n",
        "import numpy as np\n",
        "\n",
        "matrix_a = np.array([[1, 2], [3, 4]])\n",
        "matrix_b = np.array([[5, 6], [7, 8]])\n",
        "\n",
        "result_matmul = np.matmul(matrix_a, matrix_b)\n",
        "print(\"Matrix multiplication using matmul:\\n\", result_matmul)\n",
        "result_at = matrix_a @ matrix_b\n",
        "print(\"\\nMatrix multiplication using @ operator:\\n\", result_at)\n"
      ],
      "metadata": {
        "colab": {
          "base_uri": "https://localhost:8080/"
        },
        "id": "j69tt1K5EMZ4",
        "outputId": "a200327c-c329-4168-8058-5f2e65157ad6"
      },
      "execution_count": null,
      "outputs": [
        {
          "output_type": "stream",
          "name": "stdout",
          "text": [
            "Matrix multiplication using matmul:\n",
            " [[19 22]\n",
            " [43 50]]\n",
            "\n",
            "Matrix multiplication using @ operator:\n",
            " [[19 22]\n",
            " [43 50]]\n"
          ]
        }
      ]
    },
    {
      "cell_type": "code",
      "source": [
        "#12.Use Pandas to load to CSV file and display its first rows\n",
        "import pandas as pd\n",
        "df = pd.read_csv('taxonomy.csv')\n",
        "df.head()\n"
      ],
      "metadata": {
        "id": "GQ45hu-vEdwi",
        "collapsed": true
      },
      "execution_count": null,
      "outputs": []
    },
    {
      "cell_type": "code",
      "source": [
        "#13.create 3d scatter plot using plotly\n",
        "import plotly.express as px\n",
        "df = px.data.iris()\n",
        "fig = px.scatter_3d(df, x='sepal_length', y='sepal_width', z='petal_width', color='species')\n",
        "fig.show()\n"
      ],
      "metadata": {
        "colab": {
          "base_uri": "https://localhost:8080/",
          "height": 542
        },
        "id": "wA_wZ2FSEofL",
        "outputId": "ab0deefb-06ce-41e4-bc07-ab977acca50a"
      },
      "execution_count": null,
      "outputs": [
        {
          "output_type": "display_data",
          "data": {
            "text/html": [
              "<html>\n",
              "<head><meta charset=\"utf-8\" /></head>\n",
              "<body>\n",
              "    <div>            <script src=\"https://cdnjs.cloudflare.com/ajax/libs/mathjax/2.7.5/MathJax.js?config=TeX-AMS-MML_SVG\"></script><script type=\"text/javascript\">if (window.MathJax && window.MathJax.Hub && window.MathJax.Hub.Config) {window.MathJax.Hub.Config({SVG: {font: \"STIX-Web\"}});}</script>                <script type=\"text/javascript\">window.PlotlyConfig = {MathJaxConfig: 'local'};</script>\n",
              "        <script charset=\"utf-8\" src=\"https://cdn.plot.ly/plotly-2.35.2.min.js\"></script>                <div id=\"bdff10f7-4a9a-4dab-b24e-0043eff9cf11\" class=\"plotly-graph-div\" style=\"height:525px; width:100%;\"></div>            <script type=\"text/javascript\">                                    window.PLOTLYENV=window.PLOTLYENV || {};                                    if (document.getElementById(\"bdff10f7-4a9a-4dab-b24e-0043eff9cf11\")) {                    Plotly.newPlot(                        \"bdff10f7-4a9a-4dab-b24e-0043eff9cf11\",                        [{\"hovertemplate\":\"species=setosa\\u003cbr\\u003esepal_length=%{x}\\u003cbr\\u003esepal_width=%{y}\\u003cbr\\u003epetal_width=%{z}\\u003cextra\\u003e\\u003c\\u002fextra\\u003e\",\"legendgroup\":\"setosa\",\"marker\":{\"color\":\"#636efa\",\"symbol\":\"circle\"},\"mode\":\"markers\",\"name\":\"setosa\",\"scene\":\"scene\",\"showlegend\":true,\"x\":[5.1,4.9,4.7,4.6,5.0,5.4,4.6,5.0,4.4,4.9,5.4,4.8,4.8,4.3,5.8,5.7,5.4,5.1,5.7,5.1,5.4,5.1,4.6,5.1,4.8,5.0,5.0,5.2,5.2,4.7,4.8,5.4,5.2,5.5,4.9,5.0,5.5,4.9,4.4,5.1,5.0,4.5,4.4,5.0,5.1,4.8,5.1,4.6,5.3,5.0],\"y\":[3.5,3.0,3.2,3.1,3.6,3.9,3.4,3.4,2.9,3.1,3.7,3.4,3.0,3.0,4.0,4.4,3.9,3.5,3.8,3.8,3.4,3.7,3.6,3.3,3.4,3.0,3.4,3.5,3.4,3.2,3.1,3.4,4.1,4.2,3.1,3.2,3.5,3.1,3.0,3.4,3.5,2.3,3.2,3.5,3.8,3.0,3.8,3.2,3.7,3.3],\"z\":[0.2,0.2,0.2,0.2,0.2,0.4,0.3,0.2,0.2,0.1,0.2,0.2,0.1,0.1,0.2,0.4,0.4,0.3,0.3,0.3,0.2,0.4,0.2,0.5,0.2,0.2,0.4,0.2,0.2,0.2,0.2,0.4,0.1,0.2,0.1,0.2,0.2,0.1,0.2,0.2,0.3,0.3,0.2,0.6,0.4,0.3,0.2,0.2,0.2,0.2],\"type\":\"scatter3d\"},{\"hovertemplate\":\"species=versicolor\\u003cbr\\u003esepal_length=%{x}\\u003cbr\\u003esepal_width=%{y}\\u003cbr\\u003epetal_width=%{z}\\u003cextra\\u003e\\u003c\\u002fextra\\u003e\",\"legendgroup\":\"versicolor\",\"marker\":{\"color\":\"#EF553B\",\"symbol\":\"circle\"},\"mode\":\"markers\",\"name\":\"versicolor\",\"scene\":\"scene\",\"showlegend\":true,\"x\":[7.0,6.4,6.9,5.5,6.5,5.7,6.3,4.9,6.6,5.2,5.0,5.9,6.0,6.1,5.6,6.7,5.6,5.8,6.2,5.6,5.9,6.1,6.3,6.1,6.4,6.6,6.8,6.7,6.0,5.7,5.5,5.5,5.8,6.0,5.4,6.0,6.7,6.3,5.6,5.5,5.5,6.1,5.8,5.0,5.6,5.7,5.7,6.2,5.1,5.7],\"y\":[3.2,3.2,3.1,2.3,2.8,2.8,3.3,2.4,2.9,2.7,2.0,3.0,2.2,2.9,2.9,3.1,3.0,2.7,2.2,2.5,3.2,2.8,2.5,2.8,2.9,3.0,2.8,3.0,2.9,2.6,2.4,2.4,2.7,2.7,3.0,3.4,3.1,2.3,3.0,2.5,2.6,3.0,2.6,2.3,2.7,3.0,2.9,2.9,2.5,2.8],\"z\":[1.4,1.5,1.5,1.3,1.5,1.3,1.6,1.0,1.3,1.4,1.0,1.5,1.0,1.4,1.3,1.4,1.5,1.0,1.5,1.1,1.8,1.3,1.5,1.2,1.3,1.4,1.4,1.7,1.5,1.0,1.1,1.0,1.2,1.6,1.5,1.6,1.5,1.3,1.3,1.3,1.2,1.4,1.2,1.0,1.3,1.2,1.3,1.3,1.1,1.3],\"type\":\"scatter3d\"},{\"hovertemplate\":\"species=virginica\\u003cbr\\u003esepal_length=%{x}\\u003cbr\\u003esepal_width=%{y}\\u003cbr\\u003epetal_width=%{z}\\u003cextra\\u003e\\u003c\\u002fextra\\u003e\",\"legendgroup\":\"virginica\",\"marker\":{\"color\":\"#00cc96\",\"symbol\":\"circle\"},\"mode\":\"markers\",\"name\":\"virginica\",\"scene\":\"scene\",\"showlegend\":true,\"x\":[6.3,5.8,7.1,6.3,6.5,7.6,4.9,7.3,6.7,7.2,6.5,6.4,6.8,5.7,5.8,6.4,6.5,7.7,7.7,6.0,6.9,5.6,7.7,6.3,6.7,7.2,6.2,6.1,6.4,7.2,7.4,7.9,6.4,6.3,6.1,7.7,6.3,6.4,6.0,6.9,6.7,6.9,5.8,6.8,6.7,6.7,6.3,6.5,6.2,5.9],\"y\":[3.3,2.7,3.0,2.9,3.0,3.0,2.5,2.9,2.5,3.6,3.2,2.7,3.0,2.5,2.8,3.2,3.0,3.8,2.6,2.2,3.2,2.8,2.8,2.7,3.3,3.2,2.8,3.0,2.8,3.0,2.8,3.8,2.8,2.8,2.6,3.0,3.4,3.1,3.0,3.1,3.1,3.1,2.7,3.2,3.3,3.0,2.5,3.0,3.4,3.0],\"z\":[2.5,1.9,2.1,1.8,2.2,2.1,1.7,1.8,1.8,2.5,2.0,1.9,2.1,2.0,2.4,2.3,1.8,2.2,2.3,1.5,2.3,2.0,2.0,1.8,2.1,1.8,1.8,1.8,2.1,1.6,1.9,2.0,2.2,1.5,1.4,2.3,2.4,1.8,1.8,2.1,2.4,2.3,1.9,2.3,2.5,2.3,1.9,2.0,2.3,1.8],\"type\":\"scatter3d\"}],                        {\"template\":{\"data\":{\"histogram2dcontour\":[{\"type\":\"histogram2dcontour\",\"colorbar\":{\"outlinewidth\":0,\"ticks\":\"\"},\"colorscale\":[[0.0,\"#0d0887\"],[0.1111111111111111,\"#46039f\"],[0.2222222222222222,\"#7201a8\"],[0.3333333333333333,\"#9c179e\"],[0.4444444444444444,\"#bd3786\"],[0.5555555555555556,\"#d8576b\"],[0.6666666666666666,\"#ed7953\"],[0.7777777777777778,\"#fb9f3a\"],[0.8888888888888888,\"#fdca26\"],[1.0,\"#f0f921\"]]}],\"choropleth\":[{\"type\":\"choropleth\",\"colorbar\":{\"outlinewidth\":0,\"ticks\":\"\"}}],\"histogram2d\":[{\"type\":\"histogram2d\",\"colorbar\":{\"outlinewidth\":0,\"ticks\":\"\"},\"colorscale\":[[0.0,\"#0d0887\"],[0.1111111111111111,\"#46039f\"],[0.2222222222222222,\"#7201a8\"],[0.3333333333333333,\"#9c179e\"],[0.4444444444444444,\"#bd3786\"],[0.5555555555555556,\"#d8576b\"],[0.6666666666666666,\"#ed7953\"],[0.7777777777777778,\"#fb9f3a\"],[0.8888888888888888,\"#fdca26\"],[1.0,\"#f0f921\"]]}],\"heatmap\":[{\"type\":\"heatmap\",\"colorbar\":{\"outlinewidth\":0,\"ticks\":\"\"},\"colorscale\":[[0.0,\"#0d0887\"],[0.1111111111111111,\"#46039f\"],[0.2222222222222222,\"#7201a8\"],[0.3333333333333333,\"#9c179e\"],[0.4444444444444444,\"#bd3786\"],[0.5555555555555556,\"#d8576b\"],[0.6666666666666666,\"#ed7953\"],[0.7777777777777778,\"#fb9f3a\"],[0.8888888888888888,\"#fdca26\"],[1.0,\"#f0f921\"]]}],\"heatmapgl\":[{\"type\":\"heatmapgl\",\"colorbar\":{\"outlinewidth\":0,\"ticks\":\"\"},\"colorscale\":[[0.0,\"#0d0887\"],[0.1111111111111111,\"#46039f\"],[0.2222222222222222,\"#7201a8\"],[0.3333333333333333,\"#9c179e\"],[0.4444444444444444,\"#bd3786\"],[0.5555555555555556,\"#d8576b\"],[0.6666666666666666,\"#ed7953\"],[0.7777777777777778,\"#fb9f3a\"],[0.8888888888888888,\"#fdca26\"],[1.0,\"#f0f921\"]]}],\"contourcarpet\":[{\"type\":\"contourcarpet\",\"colorbar\":{\"outlinewidth\":0,\"ticks\":\"\"}}],\"contour\":[{\"type\":\"contour\",\"colorbar\":{\"outlinewidth\":0,\"ticks\":\"\"},\"colorscale\":[[0.0,\"#0d0887\"],[0.1111111111111111,\"#46039f\"],[0.2222222222222222,\"#7201a8\"],[0.3333333333333333,\"#9c179e\"],[0.4444444444444444,\"#bd3786\"],[0.5555555555555556,\"#d8576b\"],[0.6666666666666666,\"#ed7953\"],[0.7777777777777778,\"#fb9f3a\"],[0.8888888888888888,\"#fdca26\"],[1.0,\"#f0f921\"]]}],\"surface\":[{\"type\":\"surface\",\"colorbar\":{\"outlinewidth\":0,\"ticks\":\"\"},\"colorscale\":[[0.0,\"#0d0887\"],[0.1111111111111111,\"#46039f\"],[0.2222222222222222,\"#7201a8\"],[0.3333333333333333,\"#9c179e\"],[0.4444444444444444,\"#bd3786\"],[0.5555555555555556,\"#d8576b\"],[0.6666666666666666,\"#ed7953\"],[0.7777777777777778,\"#fb9f3a\"],[0.8888888888888888,\"#fdca26\"],[1.0,\"#f0f921\"]]}],\"mesh3d\":[{\"type\":\"mesh3d\",\"colorbar\":{\"outlinewidth\":0,\"ticks\":\"\"}}],\"scatter\":[{\"fillpattern\":{\"fillmode\":\"overlay\",\"size\":10,\"solidity\":0.2},\"type\":\"scatter\"}],\"parcoords\":[{\"type\":\"parcoords\",\"line\":{\"colorbar\":{\"outlinewidth\":0,\"ticks\":\"\"}}}],\"scatterpolargl\":[{\"type\":\"scatterpolargl\",\"marker\":{\"colorbar\":{\"outlinewidth\":0,\"ticks\":\"\"}}}],\"bar\":[{\"error_x\":{\"color\":\"#2a3f5f\"},\"error_y\":{\"color\":\"#2a3f5f\"},\"marker\":{\"line\":{\"color\":\"#E5ECF6\",\"width\":0.5},\"pattern\":{\"fillmode\":\"overlay\",\"size\":10,\"solidity\":0.2}},\"type\":\"bar\"}],\"scattergeo\":[{\"type\":\"scattergeo\",\"marker\":{\"colorbar\":{\"outlinewidth\":0,\"ticks\":\"\"}}}],\"scatterpolar\":[{\"type\":\"scatterpolar\",\"marker\":{\"colorbar\":{\"outlinewidth\":0,\"ticks\":\"\"}}}],\"histogram\":[{\"marker\":{\"pattern\":{\"fillmode\":\"overlay\",\"size\":10,\"solidity\":0.2}},\"type\":\"histogram\"}],\"scattergl\":[{\"type\":\"scattergl\",\"marker\":{\"colorbar\":{\"outlinewidth\":0,\"ticks\":\"\"}}}],\"scatter3d\":[{\"type\":\"scatter3d\",\"line\":{\"colorbar\":{\"outlinewidth\":0,\"ticks\":\"\"}},\"marker\":{\"colorbar\":{\"outlinewidth\":0,\"ticks\":\"\"}}}],\"scattermapbox\":[{\"type\":\"scattermapbox\",\"marker\":{\"colorbar\":{\"outlinewidth\":0,\"ticks\":\"\"}}}],\"scatterternary\":[{\"type\":\"scatterternary\",\"marker\":{\"colorbar\":{\"outlinewidth\":0,\"ticks\":\"\"}}}],\"scattercarpet\":[{\"type\":\"scattercarpet\",\"marker\":{\"colorbar\":{\"outlinewidth\":0,\"ticks\":\"\"}}}],\"carpet\":[{\"aaxis\":{\"endlinecolor\":\"#2a3f5f\",\"gridcolor\":\"white\",\"linecolor\":\"white\",\"minorgridcolor\":\"white\",\"startlinecolor\":\"#2a3f5f\"},\"baxis\":{\"endlinecolor\":\"#2a3f5f\",\"gridcolor\":\"white\",\"linecolor\":\"white\",\"minorgridcolor\":\"white\",\"startlinecolor\":\"#2a3f5f\"},\"type\":\"carpet\"}],\"table\":[{\"cells\":{\"fill\":{\"color\":\"#EBF0F8\"},\"line\":{\"color\":\"white\"}},\"header\":{\"fill\":{\"color\":\"#C8D4E3\"},\"line\":{\"color\":\"white\"}},\"type\":\"table\"}],\"barpolar\":[{\"marker\":{\"line\":{\"color\":\"#E5ECF6\",\"width\":0.5},\"pattern\":{\"fillmode\":\"overlay\",\"size\":10,\"solidity\":0.2}},\"type\":\"barpolar\"}],\"pie\":[{\"automargin\":true,\"type\":\"pie\"}]},\"layout\":{\"autotypenumbers\":\"strict\",\"colorway\":[\"#636efa\",\"#EF553B\",\"#00cc96\",\"#ab63fa\",\"#FFA15A\",\"#19d3f3\",\"#FF6692\",\"#B6E880\",\"#FF97FF\",\"#FECB52\"],\"font\":{\"color\":\"#2a3f5f\"},\"hovermode\":\"closest\",\"hoverlabel\":{\"align\":\"left\"},\"paper_bgcolor\":\"white\",\"plot_bgcolor\":\"#E5ECF6\",\"polar\":{\"bgcolor\":\"#E5ECF6\",\"angularaxis\":{\"gridcolor\":\"white\",\"linecolor\":\"white\",\"ticks\":\"\"},\"radialaxis\":{\"gridcolor\":\"white\",\"linecolor\":\"white\",\"ticks\":\"\"}},\"ternary\":{\"bgcolor\":\"#E5ECF6\",\"aaxis\":{\"gridcolor\":\"white\",\"linecolor\":\"white\",\"ticks\":\"\"},\"baxis\":{\"gridcolor\":\"white\",\"linecolor\":\"white\",\"ticks\":\"\"},\"caxis\":{\"gridcolor\":\"white\",\"linecolor\":\"white\",\"ticks\":\"\"}},\"coloraxis\":{\"colorbar\":{\"outlinewidth\":0,\"ticks\":\"\"}},\"colorscale\":{\"sequential\":[[0.0,\"#0d0887\"],[0.1111111111111111,\"#46039f\"],[0.2222222222222222,\"#7201a8\"],[0.3333333333333333,\"#9c179e\"],[0.4444444444444444,\"#bd3786\"],[0.5555555555555556,\"#d8576b\"],[0.6666666666666666,\"#ed7953\"],[0.7777777777777778,\"#fb9f3a\"],[0.8888888888888888,\"#fdca26\"],[1.0,\"#f0f921\"]],\"sequentialminus\":[[0.0,\"#0d0887\"],[0.1111111111111111,\"#46039f\"],[0.2222222222222222,\"#7201a8\"],[0.3333333333333333,\"#9c179e\"],[0.4444444444444444,\"#bd3786\"],[0.5555555555555556,\"#d8576b\"],[0.6666666666666666,\"#ed7953\"],[0.7777777777777778,\"#fb9f3a\"],[0.8888888888888888,\"#fdca26\"],[1.0,\"#f0f921\"]],\"diverging\":[[0,\"#8e0152\"],[0.1,\"#c51b7d\"],[0.2,\"#de77ae\"],[0.3,\"#f1b6da\"],[0.4,\"#fde0ef\"],[0.5,\"#f7f7f7\"],[0.6,\"#e6f5d0\"],[0.7,\"#b8e186\"],[0.8,\"#7fbc41\"],[0.9,\"#4d9221\"],[1,\"#276419\"]]},\"xaxis\":{\"gridcolor\":\"white\",\"linecolor\":\"white\",\"ticks\":\"\",\"title\":{\"standoff\":15},\"zerolinecolor\":\"white\",\"automargin\":true,\"zerolinewidth\":2},\"yaxis\":{\"gridcolor\":\"white\",\"linecolor\":\"white\",\"ticks\":\"\",\"title\":{\"standoff\":15},\"zerolinecolor\":\"white\",\"automargin\":true,\"zerolinewidth\":2},\"scene\":{\"xaxis\":{\"backgroundcolor\":\"#E5ECF6\",\"gridcolor\":\"white\",\"linecolor\":\"white\",\"showbackground\":true,\"ticks\":\"\",\"zerolinecolor\":\"white\",\"gridwidth\":2},\"yaxis\":{\"backgroundcolor\":\"#E5ECF6\",\"gridcolor\":\"white\",\"linecolor\":\"white\",\"showbackground\":true,\"ticks\":\"\",\"zerolinecolor\":\"white\",\"gridwidth\":2},\"zaxis\":{\"backgroundcolor\":\"#E5ECF6\",\"gridcolor\":\"white\",\"linecolor\":\"white\",\"showbackground\":true,\"ticks\":\"\",\"zerolinecolor\":\"white\",\"gridwidth\":2}},\"shapedefaults\":{\"line\":{\"color\":\"#2a3f5f\"}},\"annotationdefaults\":{\"arrowcolor\":\"#2a3f5f\",\"arrowhead\":0,\"arrowwidth\":1},\"geo\":{\"bgcolor\":\"white\",\"landcolor\":\"#E5ECF6\",\"subunitcolor\":\"white\",\"showland\":true,\"showlakes\":true,\"lakecolor\":\"white\"},\"title\":{\"x\":0.05},\"mapbox\":{\"style\":\"light\"}}},\"scene\":{\"domain\":{\"x\":[0.0,1.0],\"y\":[0.0,1.0]},\"xaxis\":{\"title\":{\"text\":\"sepal_length\"}},\"yaxis\":{\"title\":{\"text\":\"sepal_width\"}},\"zaxis\":{\"title\":{\"text\":\"petal_width\"}}},\"legend\":{\"title\":{\"text\":\"species\"},\"tracegroupgap\":0},\"margin\":{\"t\":60}},                        {\"responsive\": true}                    ).then(function(){\n",
              "                            \n",
              "var gd = document.getElementById('bdff10f7-4a9a-4dab-b24e-0043eff9cf11');\n",
              "var x = new MutationObserver(function (mutations, observer) {{\n",
              "        var display = window.getComputedStyle(gd).display;\n",
              "        if (!display || display === 'none') {{\n",
              "            console.log([gd, 'removed!']);\n",
              "            Plotly.purge(gd);\n",
              "            observer.disconnect();\n",
              "        }}\n",
              "}});\n",
              "\n",
              "// Listen for the removal of the full notebook cells\n",
              "var notebookContainer = gd.closest('#notebook-container');\n",
              "if (notebookContainer) {{\n",
              "    x.observe(notebookContainer, {childList: true});\n",
              "}}\n",
              "\n",
              "// Listen for the clearing of the current output cell\n",
              "var outputEl = gd.closest('.output');\n",
              "if (outputEl) {{\n",
              "    x.observe(outputEl, {childList: true});\n",
              "}}\n",
              "\n",
              "                        })                };                            </script>        </div>\n",
              "</body>\n",
              "</html>"
            ]
          },
          "metadata": {}
        }
      ]
    },
    {
      "cell_type": "code",
      "source": [],
      "metadata": {
        "id": "u8NkrIF4FO8u"
      },
      "execution_count": null,
      "outputs": []
    }
  ]
}